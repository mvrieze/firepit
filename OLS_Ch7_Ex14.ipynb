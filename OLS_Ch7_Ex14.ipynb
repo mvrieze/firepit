{
 "cells": [
  {
   "cell_type": "markdown",
   "metadata": {},
   "source": [
    "# OLS - Wooldridge Computer Exercise\n",
    "## Chapter 7, Exercise 14"
   ]
  },
  {
   "cell_type": "markdown",
   "metadata": {},
   "source": [
    "## To add a heading:\n",
    "- Insert a new cell\n",
    "- Type or paste-in content\n",
    "- Place a single / just one \"pound-sign\" in front of the heading content\n",
    "- Select \"Markdown\"\n",
    "- Press \"Shift\", \"Enter\" at same time to convert to clean commentary"
   ]
  },
  {
   "cell_type": "markdown",
   "metadata": {},
   "source": [
    "## To add a sub-heading:\n",
    "- Insert a new cell\n",
    "- Type or paste-in content\n",
    "- Place two \"pound-signs\" in front of the sub-heading\n",
    "- Select \"Markdown\"\n",
    "- Press \"Shift\", \"Enter\" at same time to convert to clean commentary"
   ]
  },
  {
   "cell_type": "markdown",
   "metadata": {},
   "source": [
    "## To add new bulleted documentation:\n",
    "\n",
    "- Insert a new cell\n",
    "- Type or paste-in content\n",
    "- Place a \"dash\" character in front of the bulleted content\n",
    "- Select \"Markdown\"\n",
    "- Press \"Shift\", \"Enter\" at same time to convert to clean commentary"
   ]
  },
  {
   "cell_type": "markdown",
   "metadata": {},
   "source": [
    "# References\n",
    "- Wooldridge, J.M. (2016). Introductory econometrics: A modern approach (6thed.). Mason, OH: South-Western, Cengage Learning.\n",
    "- Residual Plots: https://medium.com/@emredjan/emulating-r-regression-plots-in-python-43741952c034\n",
    "- Understanding residual plots: https://data.library.virginia.edu/diagnostic-plots/"
   ]
  },
  {
   "cell_type": "markdown",
   "metadata": {},
   "source": [
    "# Instantiate libraries"
   ]
  },
  {
   "cell_type": "code",
   "execution_count": 2,
   "metadata": {
    "collapsed": true
   },
   "outputs": [],
   "source": [
    "import pandas as pd\n",
    "import numpy as np\n",
    "import matplotlib.pyplot as plt\n",
    "import seaborn as sns\n",
    "%matplotlib inline\n",
    "\n",
    "import statsmodels\n",
    "import statsmodels.api as sm\n",
    "import statsmodels.stats.api as sms\n",
    "\n",
    "from statsmodels.formula.api import ols\n",
    "from statsmodels.compat import lzip\n",
    "\n",
    "from statsmodels.graphics.gofplots import ProbPlot\n",
    "\n",
    "#import pandas.tseries.api as sm\n",
    "#from tseries.formula.apt import ols\n",
    "\n",
    "from scipy.stats import ttest_ind, ttest_ind_from_stats\n",
    "from scipy.special import stdtr\n",
    "from scipy.stats import t\n",
    "from math import sqrt\n",
    "\n",
    "plt.style.use('seaborn') # pretty matplotlib plots\n",
    "\n",
    "plt.rc('font', size=14)\n",
    "plt.rc('figure', titlesize=18)\n",
    "plt.rc('axes', labelsize=15)\n",
    "plt.rc('axes', titlesize=18)\n",
    "\n",
    "# Latex markup language \n",
    "from IPython.display import Latex"
   ]
  },
  {
   "cell_type": "markdown",
   "metadata": {},
   "source": [
    "# Data Read from csv"
   ]
  },
  {
   "cell_type": "code",
   "execution_count": 3,
   "metadata": {},
   "outputs": [
    {
     "name": "stdout",
     "output_type": "stream",
     "text": [
      "   OBS  RESPONSE  GIFT  RESPLASTMAIL  WEEKSLASTRESP  PROPRESPONSE  \\\n",
      "0    1         0     0             0     143.000000           0.3   \n",
      "1    2         0     0             0      65.428571           0.3   \n",
      "2    3         0     0             1      13.142857           0.3   \n",
      "3    4         0     0             0     120.142857           0.3   \n",
      "4    5         1    10             0     103.857143           0.2   \n",
      "\n",
      "   MAILSPERYEAR  GIFTLASTRESP  AVERAGEGIFT  \n",
      "0           2.5            10         10.0  \n",
      "1           2.5            10         10.0  \n",
      "2           2.5            10         10.0  \n",
      "3           2.5            10         10.0  \n",
      "4           2.5            10         10.0  \n",
      "Wall time: 76 ms\n"
     ]
    }
   ],
   "source": [
    "%%time\n",
    "#df = pd.read_csv(BytesIO(csv_as_bytes),sep='|',nrows=100000)\n",
    "df1 = pd.read_csv('C://Users//Family//Documents//DataSetEconomics//Wooldridge//Charity.csv',sep=',')\n",
    "print(df1.head())"
   ]
  },
  {
   "cell_type": "code",
   "execution_count": 4,
   "metadata": {
    "collapsed": true
   },
   "outputs": [],
   "source": [
    "df1['constant'] = 1"
   ]
  },
  {
   "cell_type": "markdown",
   "metadata": {},
   "source": [
    "# Data Checks"
   ]
  },
  {
   "cell_type": "markdown",
   "metadata": {},
   "source": [
    "- Columns"
   ]
  },
  {
   "cell_type": "code",
   "execution_count": 4,
   "metadata": {},
   "outputs": [
    {
     "name": "stdout",
     "output_type": "stream",
     "text": [
      "<class 'pandas.core.frame.DataFrame'>\n",
      "RangeIndex: 4268 entries, 0 to 4267\n",
      "Data columns (total 10 columns):\n",
      "OBS              4268 non-null int64\n",
      "RESPONSE         4268 non-null int64\n",
      "GIFT             4268 non-null int64\n",
      "RESPLASTMAIL     4268 non-null int64\n",
      "WEEKSLASTRESP    4268 non-null float64\n",
      "PROPRESPONSE     4268 non-null float64\n",
      "MAILSPERYEAR     4268 non-null float64\n",
      "GIFTLASTRESP     4268 non-null int64\n",
      "AVERAGEGIFT      4268 non-null float64\n",
      "constant         4268 non-null int64\n",
      "dtypes: float64(4), int64(6)\n",
      "memory usage: 333.5 KB\n",
      "Wall time: 91.9 ms\n"
     ]
    }
   ],
   "source": [
    "%%time\n",
    "df1.info()"
   ]
  },
  {
   "cell_type": "markdown",
   "metadata": {},
   "source": [
    "# Job Helper Functions"
   ]
  },
  {
   "cell_type": "code",
   "execution_count": 9,
   "metadata": {
    "collapsed": true
   },
   "outputs": [],
   "source": [
    "# HELPER FUNCTION: ODDS RATIOS\n",
    "def oddsratios():\n",
    "  print(\"Logistic Regression Coefficients\")\n",
    "  print(result.params)\n",
    "  print(\" \")\n",
    "  print(\"Logistic Regression Coefficient Confidence Intervals\")\n",
    "  print(result.conf_int())\n",
    "  print(\" \")\n",
    "  params = result.params\n",
    "  conf = result.conf_int()\n",
    "  conf['OR'] = params\n",
    "  conf.columns = ['2.5%', '97.5%', 'OR']\n",
    "  print(\"Logistic Regression Odds Ratios w/Conf Intervals\")\n",
    "  print(np.exp(conf))\n",
    "  "
   ]
  },
  {
   "cell_type": "code",
   "execution_count": 7,
   "metadata": {},
   "outputs": [
    {
     "data": {
      "text/latex": [
       "\\begin{align}\n",
       "{Estimate The Model:}\n",
       "\\end{align}\n",
       "\\begin{align}\n",
       "{RESPONSE = \\alpha + \\beta_{1} RESPLASTMAIL + \\beta_{2} WEEKSLASTRESP + \\beta_{3} PROPRESPONSE + \\beta_{4} MAILSPERYEAR + \\beta_{5} GIFTLASTRESP + \\beta_{6} AVERAGEGIFT + \\mu}\n",
       "\\end{align}"
      ],
      "text/plain": [
       "<IPython.core.display.Latex object>"
      ]
     },
     "metadata": {},
     "output_type": "display_data"
    }
   ],
   "source": [
    "%%latex\n",
    "\\begin{align}\n",
    "{Estimate The Model:}\n",
    "\\end{align}\n",
    "\\begin{align}\n",
    "{RESPONSE = \\alpha + \\beta_{1} RESPLASTMAIL + \\beta_{2} WEEKSLASTRESP + \\beta_{3} PROPRESPONSE + \\beta_{4} MAILSPERYEAR + \\beta_{5} GIFTLASTRESP + \\beta_{6} AVERAGEGIFT + \\mu}\n",
    "\\end{align}"
   ]
  },
  {
   "cell_type": "code",
   "execution_count": 10,
   "metadata": {},
   "outputs": [
    {
     "name": "stdout",
     "output_type": "stream",
     "text": [
      "Index(['constant', 'RESPLASTMAIL', 'WEEKSLASTRESP', 'PROPRESPONSE',\n",
      "       'MAILSPERYEAR', 'GIFTLASTRESP', 'AVERAGEGIFT'],\n",
      "      dtype='object')\n",
      "Optimization terminated successfully.\n",
      "         Current function value: 0.557242\n",
      "         Iterations 7\n",
      "                          Results: Logit\n",
      "==================================================================\n",
      "Model:              Logit            Pseudo R-squared: 0.172      \n",
      "Dependent Variable: RESPONSE         AIC:              4770.6158  \n",
      "Date:               2019-03-22 11:18 BIC:              4815.1281  \n",
      "No. Observations:   4268             Log-Likelihood:   -2378.3    \n",
      "Df Model:           6                LL-Null:          -2872.3    \n",
      "Df Residuals:       4261             LLR p-value:      3.4355e-210\n",
      "Converged:          1.0000           Scale:            1.0000     \n",
      "No. Iterations:     7.0000                                        \n",
      "------------------------------------------------------------------\n",
      "                   Coef.  Std.Err.    z     P>|z|   [0.025  0.975]\n",
      "------------------------------------------------------------------\n",
      "constant          -2.1159   0.1934 -10.9376 0.0000 -2.4950 -1.7367\n",
      "RESPLASTMAIL       0.1927   0.0942   2.0449 0.0409  0.0080  0.3774\n",
      "WEEKSLASTRESP     -0.0079   0.0012  -6.3656 0.0000 -0.0103 -0.0055\n",
      "PROPRESPONSE       3.0323   0.1910  15.8729 0.0000  2.6579  3.4068\n",
      "MAILSPERYEAR       0.2450   0.0539   4.5428 0.0000  0.1393  0.3506\n",
      "GIFTLASTRESP       0.0031   0.0048   0.6421 0.5208 -0.0064  0.0126\n",
      "AVERAGEGIFT       -0.0013   0.0053  -0.2397 0.8105 -0.0117  0.0092\n",
      "==================================================================\n",
      "\n",
      "Logistic Regression Coefficients\n",
      "constant        -2.115866\n",
      "RESPLASTMAIL     0.192725\n",
      "WEEKSLASTRESP   -0.007881\n",
      "PROPRESPONSE     3.032336\n",
      "MAILSPERYEAR     0.244954\n",
      "GIFTLASTRESP     0.003111\n",
      "AVERAGEGIFT     -0.001277\n",
      "dtype: float64\n",
      " \n",
      "Logistic Regression Coefficient Confidence Intervals\n",
      "                      0         1\n",
      "constant      -2.495017 -1.736714\n",
      "RESPLASTMAIL   0.008001  0.377449\n",
      "WEEKSLASTRESP -0.010308 -0.005454\n",
      "PROPRESPONSE   2.657907  3.406766\n",
      "MAILSPERYEAR   0.139270  0.350637\n",
      "GIFTLASTRESP  -0.006385  0.012606\n",
      "AVERAGEGIFT   -0.011717  0.009163\n",
      " \n",
      "Logistic Regression Odds Ratios w/Conf Intervals\n",
      "                    2.5%      97.5%         OR\n",
      "constant        0.082495   0.176098   0.120529\n",
      "RESPLASTMAIL    1.008033   1.458560   1.212550\n",
      "WEEKSLASTRESP   0.989745   0.994560   0.992150\n",
      "PROPRESPONSE   14.266394  30.167515  20.745642\n",
      "MAILSPERYEAR    1.149435   1.419972   1.277562\n",
      "GIFTLASTRESP    0.993636   1.012686   1.003115\n",
      "AVERAGEGIFT     0.988351   1.009205   0.998724\n"
     ]
    }
   ],
   "source": [
    "# create a clean data frame for the regression\n",
    "modeldata = df1[['RESPONSE','constant'\n",
    "#,'GIFT'   #THIS IS THE DOLLAR AMOUNT OF THE GIFT WHEN RESPONSE = 1\n",
    ",'RESPLASTMAIL'\n",
    ",'WEEKSLASTRESP'\n",
    ",'PROPRESPONSE'\n",
    ",'MAILSPERYEAR'\n",
    ",'GIFTLASTRESP'\n",
    ",'AVERAGEGIFT'\n",
    "]].dropna() #subset the dataframe\n",
    "\n",
    "# SIGNIFIES DROPPED VAR\n",
    "\n",
    "train_cols = modeldata.columns[1:]\n",
    "# Index([gre, gpa, prestige_2, prestige_3, prestige_4], dtype=object)\n",
    "print(train_cols)\n",
    "\n",
    "logit = sm.Logit(modeldata['RESPONSE'], modeldata[train_cols])\n",
    "\n",
    "# fit the model\n",
    "result = logit.fit()\n",
    "\n",
    "print(result.summary2())\n",
    "\n",
    "# Uncomment oddsratios() once you have final model specification\n",
    "oddsratios()"
   ]
  }
 ],
 "metadata": {
  "kernelspec": {
   "display_name": "Python 3",
   "language": "python",
   "name": "python3"
  },
  "language_info": {
   "codemirror_mode": {
    "name": "ipython",
    "version": 3
   },
   "file_extension": ".py",
   "mimetype": "text/x-python",
   "name": "python",
   "nbconvert_exporter": "python",
   "pygments_lexer": "ipython3",
   "version": "3.6.2"
  }
 },
 "nbformat": 4,
 "nbformat_minor": 2
}
