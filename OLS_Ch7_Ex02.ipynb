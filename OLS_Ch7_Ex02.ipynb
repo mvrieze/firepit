{
 "cells": [
  {
   "cell_type": "markdown",
   "metadata": {},
   "source": [
    "# OLS - Wooldridge Computer Exercise\n",
    "## Chapter 7, Exercise 2"
   ]
  },
  {
   "cell_type": "markdown",
   "metadata": {},
   "source": [
    "## To add a heading:\n",
    "- Insert a new cell\n",
    "- Type or paste-in content\n",
    "- Place a single / just one \"pound-sign\" in front of the heading content\n",
    "- Select \"Markdown\"\n",
    "- Press \"Shift\", \"Enter\" at same time to convert to clean commentary"
   ]
  },
  {
   "cell_type": "markdown",
   "metadata": {},
   "source": [
    "## To add a sub-heading:\n",
    "- Insert a new cell\n",
    "- Type or paste-in content\n",
    "- Place two \"pound-signs\" in front of the sub-heading\n",
    "- Select \"Markdown\"\n",
    "- Press \"Shift\", \"Enter\" at same time to convert to clean commentary"
   ]
  },
  {
   "cell_type": "markdown",
   "metadata": {},
   "source": [
    "## To add new bulleted documentation:\n",
    "\n",
    "- Insert a new cell\n",
    "- Type or paste-in content\n",
    "- Place a \"dash\" character in front of the bulleted content\n",
    "- Select \"Markdown\"\n",
    "- Press \"Shift\", \"Enter\" at same time to convert to clean commentary"
   ]
  },
  {
   "cell_type": "markdown",
   "metadata": {},
   "source": [
    "# References\n",
    "- Wooldridge, J.M. (2016). Introductory econometrics: A modern approach (6thed.). Mason, OH: South-Western, Cengage Learning.\n",
    "- Residual Plots: https://medium.com/@emredjan/emulating-r-regression-plots-in-python-43741952c034\n",
    "- Understanding residual plots: https://data.library.virginia.edu/diagnostic-plots/\n",
    "- VIF: https://etav.github.io/python/vif_factor_python.html\n",
    "- VIF: https://en.wikipedia.org/wiki/Variance_inflation_factor\n",
    "- Extracting various values from regression results: https://www.statsmodels.org/dev/generated/statsmodels.regression.linear_model.RegressionResults.html"
   ]
  },
  {
   "cell_type": "markdown",
   "metadata": {},
   "source": [
    "# Instantiate libraries"
   ]
  },
  {
   "cell_type": "code",
   "execution_count": 1,
   "metadata": {
    "collapsed": true
   },
   "outputs": [],
   "source": [
    "import pandas as pd\n",
    "import numpy as np\n",
    "import matplotlib.pyplot as plt\n",
    "import seaborn as sns\n",
    "%matplotlib inline\n",
    "\n",
    "import statsmodels\n",
    "import statsmodels.api as sm\n",
    "import statsmodels.stats.api as sms\n",
    "\n",
    "from statsmodels.formula.api import ols\n",
    "from statsmodels.compat import lzip\n",
    "from patsy import dmatrices\n",
    "from statsmodels.stats.outliers_influence import variance_inflation_factor\n",
    "\n",
    "from statsmodels.graphics.gofplots import ProbPlot\n",
    "\n",
    "#import pandas.tseries.api as sm\n",
    "#from tseries.formula.apt import ols\n",
    "\n",
    "from scipy.stats import ttest_ind, ttest_ind_from_stats\n",
    "from scipy.special import stdtr\n",
    "\n",
    "\n",
    "plt.style.use('seaborn') # pretty matplotlib plots\n",
    "\n",
    "plt.rc('font', size=14)\n",
    "plt.rc('figure', titlesize=18)\n",
    "plt.rc('axes', labelsize=15)\n",
    "plt.rc('axes', titlesize=18)\n",
    "\n",
    "# Latex markup language \n",
    "from IPython.display import Latex"
   ]
  },
  {
   "cell_type": "markdown",
   "metadata": {},
   "source": [
    "# Data Read from csv"
   ]
  },
  {
   "cell_type": "code",
   "execution_count": 2,
   "metadata": {},
   "outputs": [
    {
     "name": "stdout",
     "output_type": "stream",
     "text": [
      "   wage  hours   IQ  KWW  educ  exper  tenure  age  married  black  south  \\\n",
      "0   769     40   93   35    12     11       2   31        1      0      0   \n",
      "1   808     50  119   41    18     11      16   37        1      0      0   \n",
      "2   825     40  108   46    14     11       9   33        1      0      0   \n",
      "3   650     40   96   32    12     13       7   32        1      0      0   \n",
      "4   562     40   74   27    11     14       5   34        1      0      0   \n",
      "\n",
      "   urban  sibs  brthord  meduc  feduc     lwage  \n",
      "0      1     1      2.0    8.0    8.0  6.645091  \n",
      "1      1     1      NaN   14.0   14.0  6.694562  \n",
      "2      1     1      2.0   14.0   14.0  6.715384  \n",
      "3      1     4      3.0   12.0   12.0  6.476973  \n",
      "4      1    10      6.0    6.0   11.0  6.331502  \n",
      "Wall time: 94.9 ms\n"
     ]
    }
   ],
   "source": [
    "%%time\n",
    "#df = pd.read_csv(BytesIO(csv_as_bytes),sep='|',nrows=100000)\n",
    "df1 = pd.read_stata('C://Users//Family//Documents//DataSetEconomics//Wooldridge//WAGE2.dta')\n",
    "print(df1.head())"
   ]
  },
  {
   "cell_type": "code",
   "execution_count": 3,
   "metadata": {
    "collapsed": true
   },
   "outputs": [],
   "source": [
    "df1['constant'] = 1"
   ]
  },
  {
   "cell_type": "markdown",
   "metadata": {},
   "source": [
    "# Data Checks\n",
    "- Columns"
   ]
  },
  {
   "cell_type": "code",
   "execution_count": 4,
   "metadata": {},
   "outputs": [
    {
     "name": "stdout",
     "output_type": "stream",
     "text": [
      "<class 'pandas.core.frame.DataFrame'>\n",
      "Int64Index: 935 entries, 0 to 934\n",
      "Data columns (total 18 columns):\n",
      "wage        935 non-null int16\n",
      "hours       935 non-null int8\n",
      "IQ          935 non-null int16\n",
      "KWW         935 non-null int8\n",
      "educ        935 non-null int8\n",
      "exper       935 non-null int8\n",
      "tenure      935 non-null int8\n",
      "age         935 non-null int8\n",
      "married     935 non-null int8\n",
      "black       935 non-null int8\n",
      "south       935 non-null int8\n",
      "urban       935 non-null int8\n",
      "sibs        935 non-null int8\n",
      "brthord     852 non-null float64\n",
      "meduc       857 non-null float64\n",
      "feduc       741 non-null float64\n",
      "lwage       935 non-null float32\n",
      "constant    935 non-null int64\n",
      "dtypes: float32(1), float64(3), int16(2), int64(1), int8(11)\n",
      "memory usage: 53.9 KB\n",
      "Wall time: 11 ms\n"
     ]
    }
   ],
   "source": [
    "%%time\n",
    "df1.info()"
   ]
  },
  {
   "cell_type": "markdown",
   "metadata": {},
   "source": [
    "# OLS: Regress lwage on educ, exper, exper^2"
   ]
  },
  {
   "cell_type": "code",
   "execution_count": 4,
   "metadata": {},
   "outputs": [
    {
     "data": {
      "text/latex": [
       "\\begin{align}\n",
       "{Unrestricted Model: lwage = \\alpha + \\beta_{1} educ + \\beta_{2} exper + \\beta_{3} tenure + \\beta_{4} married + \\beta_{5} black + \\beta_{6} south + \\beta_{7} urban + \\beta_{8} exper^{2} + \\beta_{9} tenure^{2} + \\mu}\n",
       "\\end{align}\n",
       "\\begin{align}\n",
       "{Restricted Model:   lwage = \\alpha + \\beta_{1} educ + \\beta_{2} exper + \\beta_{3} tenure + \\beta_{4} married + \\beta_{5} black + \\beta_{6} south + \\beta_{7} urban + \\mu}\n",
       "\\end{align}"
      ],
      "text/plain": [
       "<IPython.core.display.Latex object>"
      ]
     },
     "metadata": {},
     "output_type": "display_data"
    }
   ],
   "source": [
    "%%latex\n",
    "\\begin{align}\n",
    "{Unrestricted Model: lwage = \\alpha + \\beta_{1} educ + \\beta_{2} exper + \\beta_{3} tenure + \\beta_{4} married + \\beta_{5} black + \\beta_{6} south + \\beta_{7} urban + \\beta_{8} exper^{2} + \\beta_{9} tenure^{2} + \\mu}\n",
    "\\end{align}\n",
    "\\begin{align}\n",
    "{Restricted Model:   lwage = \\alpha + \\beta_{1} educ + \\beta_{2} exper + \\beta_{3} tenure + \\beta_{4} married + \\beta_{5} black + \\beta_{6} south + \\beta_{7} urban + \\mu}\n",
    "\\end{align}"
   ]
  },
  {
   "cell_type": "code",
   "execution_count": 5,
   "metadata": {},
   "outputs": [
    {
     "name": "stdout",
     "output_type": "stream",
     "text": [
      "              sum_sq     df           F        PR(>F)\n",
      "educ       14.637079    1.0  109.584353  2.576585e-24\n",
      "exper       2.596312    1.0   19.437975  1.160827e-05\n",
      "tenure      3.063340    1.0   22.934504  1.950493e-06\n",
      "married     3.483253    1.0   26.078293  3.979232e-07\n",
      "black       3.339820    1.0   25.004443  6.839311e-07\n",
      "south       1.601988    1.0   11.993706  5.582258e-04\n",
      "urban       6.216421    1.0   46.540871  1.617983e-11\n",
      "Residual  123.818521  927.0         NaN           NaN\n",
      "                sum_sq     df           F        PR(>F)\n",
      "educ         14.483874    1.0  108.375037  4.474531e-24\n",
      "exper         0.670685    1.0    5.018374  2.531648e-02\n",
      "tenure        0.072486    1.0    0.542373  4.616378e-01\n",
      "married       3.557180    1.0   26.616461  3.036167e-07\n",
      "black         3.411232    1.0   25.524412  5.262804e-07\n",
      "south         1.618733    1.0   12.112105  5.243551e-04\n",
      "urban         6.114072    1.0   45.748316  2.381442e-11\n",
      "exper ^ 2     0.004021    1.0    0.030090  8.623251e-01\n",
      "tenure ^ 2    0.192770    1.0    1.442395  2.300596e-01\n",
      "Residual    123.622410  925.0         NaN           NaN\n",
      "                            OLS Regression Results                            \n",
      "==============================================================================\n",
      "Dep. Variable:                  lwage   R-squared:                       0.253\n",
      "Model:                            OLS   Adj. R-squared:                  0.247\n",
      "Method:                 Least Squares   F-statistic:                     44.75\n",
      "Date:                Mon, 18 Mar 2019   Prob (F-statistic):           1.16e-54\n",
      "Time:                        20:09:05   Log-Likelihood:                -381.55\n",
      "No. Observations:                 935   AIC:                             779.1\n",
      "Df Residuals:                     927   BIC:                             817.8\n",
      "Df Model:                           7                                         \n",
      "Covariance Type:            nonrobust                                         \n",
      "==============================================================================\n",
      "                 coef    std err          t      P>|t|      [0.025      0.975]\n",
      "------------------------------------------------------------------------------\n",
      "Intercept      5.3955      0.113     47.653      0.000       5.173       5.618\n",
      "educ           0.0654      0.006     10.468      0.000       0.053       0.078\n",
      "exper          0.0140      0.003      4.409      0.000       0.008       0.020\n",
      "tenure         0.0117      0.002      4.789      0.000       0.007       0.017\n",
      "married        0.1994      0.039      5.107      0.000       0.123       0.276\n",
      "black         -0.1883      0.038     -5.000      0.000      -0.262      -0.114\n",
      "south         -0.0909      0.026     -3.463      0.001      -0.142      -0.039\n",
      "urban          0.1839      0.027      6.822      0.000       0.131       0.237\n",
      "==============================================================================\n",
      "Omnibus:                       38.227   Durbin-Watson:                   1.823\n",
      "Prob(Omnibus):                  0.000   Jarque-Bera (JB):               83.390\n",
      "Skew:                          -0.224   Prob(JB):                     7.80e-19\n",
      "Kurtosis:                       4.393   Cond. No.                         187.\n",
      "==============================================================================\n",
      "\n",
      "Warnings:\n",
      "[1] Standard Errors assume that the covariance matrix of the errors is correctly specified.\n",
      "                            OLS Regression Results                            \n",
      "==============================================================================\n",
      "Dep. Variable:                  lwage   R-squared:                       0.254\n",
      "Model:                            OLS   Adj. R-squared:                  0.246\n",
      "Method:                 Least Squares   F-statistic:                     34.95\n",
      "Date:                Mon, 18 Mar 2019   Prob (F-statistic):           2.55e-53\n",
      "Time:                        20:09:05   Log-Likelihood:                -380.81\n",
      "No. Observations:                 935   AIC:                             781.6\n",
      "Df Residuals:                     925   BIC:                             830.0\n",
      "Df Model:                           9                                         \n",
      "Covariance Type:            nonrobust                                         \n",
      "==============================================================================\n",
      "                 coef    std err          t      P>|t|      [0.025      0.975]\n",
      "------------------------------------------------------------------------------\n",
      "Intercept      5.3968      0.113     47.644      0.000       5.175       5.619\n",
      "educ           0.0651      0.006     10.410      0.000       0.053       0.077\n",
      "exper          0.0150      0.007      2.240      0.025       0.002       0.028\n",
      "tenure         0.0047      0.006      0.736      0.462      -0.008       0.017\n",
      "married        0.2018      0.039      5.159      0.000       0.125       0.279\n",
      "black         -0.1907      0.038     -5.052      0.000      -0.265      -0.117\n",
      "south         -0.0914      0.026     -3.480      0.001      -0.143      -0.040\n",
      "urban          0.1826      0.027      6.764      0.000       0.130       0.236\n",
      "exper ^ 2     -0.0010      0.006     -0.173      0.862      -0.013       0.011\n",
      "tenure ^ 2     0.0073      0.006      1.201      0.230      -0.005       0.019\n",
      "==============================================================================\n",
      "Omnibus:                       37.771   Durbin-Watson:                   1.825\n",
      "Prob(Omnibus):                  0.000   Jarque-Bera (JB):               81.259\n",
      "Skew:                          -0.225   Prob(JB):                     2.26e-18\n",
      "Kurtosis:                       4.372   Cond. No.                         233.\n",
      "==============================================================================\n",
      "\n",
      "Warnings:\n",
      "[1] Standard Errors assume that the covariance matrix of the errors is correctly specified.\n",
      "\n",
      "F-Statistic: Restricted vs Unrestricted Models\n",
      "0.7336978595372522\n"
     ]
    }
   ],
   "source": [
    "formula1 = '''lwage ~ educ + exper + tenure + married + black + south + urban'''\n",
    "formula2 = '''lwage ~ educ + exper + tenure + married + black + south + urban + exper^2 + tenure^2'''\n",
    "#model = ols(formula, df).fit(cov_type='HC0')\n",
    "model1 = ols(formula1, df1)\n",
    "results1 = model1.fit()\n",
    "model2 = ols(formula2, df1)\n",
    "results2 = model2.fit()\n",
    "aov_table1 = statsmodels.stats.anova.anova_lm(results1, typ=2)\n",
    "aov_table2 = statsmodels.stats.anova.anova_lm(results2, typ=2)\n",
    "print(aov_table1)\n",
    "print(aov_table2)\n",
    "print(results1.summary())\n",
    "print(results2.summary())\n",
    "ssr_r = results1.ssr\n",
    "ssr_ur = results2.ssr\n",
    "df_ur = results2.df_resid\n",
    "f_stat = ((ssr_r-ssr_ur) / 2) / (ssr_ur / results2.df_resid)\n",
    "print()\n",
    "print('F-Statistic: Restricted vs Unrestricted Models')\n",
    "print(f_stat)"
   ]
  },
  {
   "cell_type": "code",
   "execution_count": 6,
   "metadata": {},
   "outputs": [
    {
     "data": {
      "text/latex": [
       "\\begin{align}\n",
       "{Unrestricted Model: lwage = \\alpha + \\beta_{1} educ + \\beta_{2} exper + \\beta_{3} tenure + \\beta_{4} married + \\beta_{5} black + \\beta_{6} south + \\beta_{7} urban + \\beta_{8} exper^{2} + \\beta_{9} tenure^{2} + \\mu}\n",
       "\\end{align}\n",
       "\\begin{align}\n",
       "{Restricted Model:   lwage = \\alpha + \\beta_{1} educ + \\beta_{2} exper + \\beta_{3} tenure + \\beta_{4} married + \\beta_{5} black + \\beta_{6} south + \\beta_{7} urban + \\mu}\n",
       "\\end{align}"
      ],
      "text/plain": [
       "<IPython.core.display.Latex object>"
      ]
     },
     "metadata": {},
     "output_type": "display_data"
    }
   ],
   "source": [
    "%%latex\n",
    "\\begin{align}\n",
    "{Unrestricted Model: lwage = \\alpha + \\beta_{1} educ + \\beta_{2} exper + \\beta_{3} tenure + \\beta_{4} married + \\beta_{5} black + \\beta_{6} south + \\beta_{7} urban + \\beta_{8} exper^{2} + \\beta_{9} tenure^{2} + \\mu}\n",
    "\\end{align}\n",
    "\\begin{align}\n",
    "{Restricted Model:   lwage = \\alpha + \\beta_{1} educ + \\beta_{2} exper + \\beta_{3} tenure + \\beta_{4} married + \\beta_{5} black + \\beta_{6} south + \\beta_{7} urban + \\mu}\n",
    "\\end{align}"
   ]
  },
  {
   "cell_type": "code",
   "execution_count": 7,
   "metadata": {},
   "outputs": [
    {
     "name": "stdout",
     "output_type": "stream",
     "text": [
      "                            OLS Regression Results                            \n",
      "==============================================================================\n",
      "Dep. Variable:                  lwage   R-squared:                       0.254\n",
      "Model:                            OLS   Adj. R-squared:                  0.246\n",
      "Method:                 Least Squares   F-statistic:                     34.95\n",
      "Date:                Mon, 18 Mar 2019   Prob (F-statistic):           2.55e-53\n",
      "Time:                        20:09:44   Log-Likelihood:                -380.81\n",
      "No. Observations:                 935   AIC:                             781.6\n",
      "Df Residuals:                     925   BIC:                             830.0\n",
      "Df Model:                           9                                         \n",
      "Covariance Type:            nonrobust                                         \n",
      "==============================================================================\n",
      "                 coef    std err          t      P>|t|      [0.025      0.975]\n",
      "------------------------------------------------------------------------------\n",
      "Intercept      5.3968      0.113     47.644      0.000       5.175       5.619\n",
      "educ           0.0651      0.006     10.410      0.000       0.053       0.077\n",
      "exper          0.0150      0.007      2.240      0.025       0.002       0.028\n",
      "tenure         0.0047      0.006      0.736      0.462      -0.008       0.017\n",
      "married        0.2018      0.039      5.159      0.000       0.125       0.279\n",
      "black         -0.1907      0.038     -5.052      0.000      -0.265      -0.117\n",
      "south         -0.0914      0.026     -3.480      0.001      -0.143      -0.040\n",
      "urban          0.1826      0.027      6.764      0.000       0.130       0.236\n",
      "exper ^ 2     -0.0010      0.006     -0.173      0.862      -0.013       0.011\n",
      "tenure ^ 2     0.0073      0.006      1.201      0.230      -0.005       0.019\n",
      "==============================================================================\n",
      "Omnibus:                       37.771   Durbin-Watson:                   1.825\n",
      "Prob(Omnibus):                  0.000   Jarque-Bera (JB):               81.259\n",
      "Skew:                          -0.225   Prob(JB):                     2.26e-18\n",
      "Kurtosis:                       4.372   Cond. No.                         233.\n",
      "==============================================================================\n",
      "\n",
      "Warnings:\n",
      "[1] Standard Errors assume that the covariance matrix of the errors is correctly specified.\n",
      "\n",
      "F-Statistic: Restricted vs Unrestricted Models\n",
      "(0.7336978595372522, 0.48040945148860115, 2.0)\n"
     ]
    }
   ],
   "source": [
    "formula_r = '''lwage ~ educ + exper + tenure + married + black + south + urban'''\n",
    "formula_ur = '''lwage ~ educ + exper + tenure + married + black + south + urban + exper^2 + tenure^2'''\n",
    "#model = ols(formula, df).fit(cov_type='HC0')\n",
    "model_ur = ols(formula_ur, df1)\n",
    "results_ur = model_ur.fit()\n",
    "model_r = ols(formula_r, df1)\n",
    "results_r = model_r.fit()\n",
    "print(results_ur.summary())\n",
    "print()\n",
    "print('F-Statistic: Restricted vs Unrestricted Models')\n",
    "print(results_ur.compare_f_test(results_r))"
   ]
  },
  {
   "cell_type": "code",
   "execution_count": 20,
   "metadata": {},
   "outputs": [
    {
     "data": {
      "text/latex": [
       "\\begin{align}\n",
       "{lwage = \\alpha + \\beta_{1} educ + \\beta_{2} exper + \\beta_{3} tenure + \\beta_{4} married + \\beta_{5} black + \\beta_{6} south + \\beta_{7} urban + \\beta_{8} educ \\times black + \\mu}\n",
       "\\end{align}"
      ],
      "text/plain": [
       "<IPython.core.display.Latex object>"
      ]
     },
     "metadata": {},
     "output_type": "display_data"
    }
   ],
   "source": [
    "%%latex\n",
    "\\begin{align}\n",
    "{lwage = \\alpha + \\beta_{1} educ + \\beta_{2} exper + \\beta_{3} tenure + \\beta_{4} married + \\beta_{5} black + \\beta_{6} south + \\beta_{7} urban + \\beta_{8} educ \\times black + \\mu}\n",
    "\\end{align}"
   ]
  },
  {
   "cell_type": "code",
   "execution_count": 12,
   "metadata": {},
   "outputs": [
    {
     "name": "stdout",
     "output_type": "stream",
     "text": [
      "                sum_sq     df           F        PR(>F)\n",
      "educ         14.637079    1.0  109.614677  2.549391e-24\n",
      "exper         2.507370    1.0   18.777283  1.629706e-05\n",
      "tenure        3.083458    1.0   23.091511  1.801395e-06\n",
      "married       3.465013    1.0   25.948908  4.248118e-07\n",
      "black         3.339820    1.0   25.011362  6.816750e-07\n",
      "south         1.547366    1.0   11.587970  6.922824e-04\n",
      "urban         6.212356    1.0   46.523309  1.632855e-11\n",
      "educ:black    0.167785    1.0    1.256514  2.626027e-01\n",
      "Residual    123.650736  926.0         NaN           NaN\n",
      "                            OLS Regression Results                            \n",
      "==============================================================================\n",
      "Dep. Variable:                  lwage   R-squared:                       0.254\n",
      "Model:                            OLS   Adj. R-squared:                  0.247\n",
      "Method:                 Least Squares   F-statistic:                     39.32\n",
      "Date:                Sun, 16 Dec 2018   Prob (F-statistic):           4.35e-54\n",
      "Time:                        19:13:22   Log-Likelihood:                -380.92\n",
      "No. Observations:                 935   AIC:                             779.8\n",
      "Df Residuals:                     926   BIC:                             823.4\n",
      "Df Model:                           8                                         \n",
      "Covariance Type:            nonrobust                                         \n",
      "==============================================================================\n",
      "                 coef    std err          t      P>|t|      [0.025      0.975]\n",
      "------------------------------------------------------------------------------\n",
      "Intercept      5.3748      0.115     46.859      0.000       5.150       5.600\n",
      "educ           0.0671      0.006     10.442      0.000       0.055       0.080\n",
      "exper          0.0138      0.003      4.333      0.000       0.008       0.020\n",
      "tenure         0.0118      0.002      4.805      0.000       0.007       0.017\n",
      "married        0.1989      0.039      5.094      0.000       0.122       0.276\n",
      "black          0.0948      0.255      0.371      0.711      -0.406       0.596\n",
      "south         -0.0894      0.026     -3.404      0.001      -0.141      -0.038\n",
      "urban          0.1839      0.027      6.821      0.000       0.131       0.237\n",
      "educ:black    -0.0226      0.020     -1.121      0.263      -0.062       0.017\n",
      "==============================================================================\n",
      "Omnibus:                       38.505   Durbin-Watson:                   1.827\n",
      "Prob(Omnibus):                  0.000   Jarque-Bera (JB):               83.862\n",
      "Skew:                          -0.227   Prob(JB):                     6.16e-19\n",
      "Kurtosis:                       4.395   Cond. No.                         422.\n",
      "==============================================================================\n",
      "\n",
      "Warnings:\n",
      "[1] Standard Errors assume that the covariance matrix of the errors is correctly specified.\n"
     ]
    }
   ],
   "source": [
    "formula = '''lwage ~ educ + exper + tenure + married + black + south + urban + educ:black'''\n",
    "#model = ols(formula, df).fit(cov_type='HC0')\n",
    "model = ols(formula, df1)\n",
    "results = model.fit()\n",
    "aov_table = statsmodels.stats.anova.anova_lm(results, typ=2)\n",
    "print(aov_table)\n",
    "print(results.summary())"
   ]
  },
  {
   "cell_type": "code",
   "execution_count": 18,
   "metadata": {},
   "outputs": [
    {
     "name": "stdout",
     "output_type": "stream",
     "text": [
      "   wage  hours   IQ  KWW  educ  exper  tenure  age  married  black  south  \\\n",
      "0   769     40   93   35    12     11       2   31        1      0      0   \n",
      "1   808     50  119   41    18     11      16   37        1      0      0   \n",
      "2   825     40  108   46    14     11       9   33        1      0      0   \n",
      "3   650     40   96   32    12     13       7   32        1      0      0   \n",
      "4   562     40   74   27    11     14       5   34        1      0      0   \n",
      "\n",
      "   urban  sibs  brthord  meduc  feduc     lwage  constant  single  nonblack  \n",
      "0      1     1      2.0    8.0    8.0  6.645091         1     0.0       1.0  \n",
      "1      1     1      NaN   14.0   14.0  6.694562         1     0.0       1.0  \n",
      "2      1     1      2.0   14.0   14.0  6.715384         1     0.0       1.0  \n",
      "3      1     4      3.0   12.0   12.0  6.476973         1     0.0       1.0  \n",
      "4      1    10      6.0    6.0   11.0  6.331502         1     0.0       1.0  \n",
      "                      sum_sq     df           F        PR(>F)\n",
      "educ               14.654851    1.0  109.640818  2.519506e-24\n",
      "exper               2.626803    1.0   19.652529  1.040052e-05\n",
      "tenure              3.009338    1.0   22.514473  2.414696e-06\n",
      "married:black       0.945680    1.0    7.075139  7.951146e-03\n",
      "married:nonblack    3.184223    1.0   23.822883  1.243355e-06\n",
      "single:nonblack     0.840707    1.0    6.289782  1.231368e-02\n",
      "south               1.632576    1.0   12.214178  4.967616e-04\n",
      "urban               6.241400    1.0   46.695272  1.501980e-11\n",
      "Residual          123.771347  926.0         NaN           NaN\n",
      "                            OLS Regression Results                            \n",
      "==============================================================================\n",
      "Dep. Variable:                  lwage   R-squared:                       0.253\n",
      "Model:                            OLS   Adj. R-squared:                  0.246\n",
      "Method:                 Least Squares   F-statistic:                     39.17\n",
      "Date:                Sun, 16 Dec 2018   Prob (F-statistic):           6.78e-54\n",
      "Time:                        19:51:05   Log-Likelihood:                -381.37\n",
      "No. Observations:                 935   AIC:                             780.7\n",
      "Df Residuals:                     926   BIC:                             824.3\n",
      "Df Model:                           8                                         \n",
      "Covariance Type:            nonrobust                                         \n",
      "====================================================================================\n",
      "                       coef    std err          t      P>|t|      [0.025      0.975]\n",
      "------------------------------------------------------------------------------------\n",
      "Intercept            5.1630      0.136     37.978      0.000       4.896       5.430\n",
      "educ                 0.0655      0.006     10.471      0.000       0.053       0.078\n",
      "exper                0.0141      0.003      4.433      0.000       0.008       0.020\n",
      "tenure               0.0117      0.002      4.745      0.000       0.007       0.016\n",
      "married:black        0.2503      0.094      2.660      0.008       0.066       0.435\n",
      "married:nonblack     0.4297      0.088      4.881      0.000       0.257       0.603\n",
      "single:nonblack      0.2408      0.096      2.508      0.012       0.052       0.429\n",
      "south               -0.0920      0.026     -3.495      0.000      -0.144      -0.040\n",
      "urban                0.1844      0.027      6.833      0.000       0.131       0.237\n",
      "==============================================================================\n",
      "Omnibus:                       38.572   Durbin-Watson:                   1.824\n",
      "Prob(Omnibus):                  0.000   Jarque-Bera (JB):               84.151\n",
      "Skew:                          -0.227   Prob(JB):                     5.33e-19\n",
      "Kurtosis:                       4.398   Cond. No.                         302.\n",
      "==============================================================================\n",
      "\n",
      "Warnings:\n",
      "[1] Standard Errors assume that the covariance matrix of the errors is correctly specified.\n"
     ]
    }
   ],
   "source": [
    "df1.loc[df1['married'] == 1, 'single'] = 0\n",
    "df1.loc[df1['married'] == 0, 'single'] = 1\n",
    "df1.loc[df1['black'] == 1, 'nonblack'] = 0\n",
    "df1.loc[df1['black'] == 0, 'nonblack'] = 1\n",
    "\n",
    "formula = '''lwage ~ educ + exper + tenure + married:black + married:nonblack + single:nonblack + south + urban '''\n",
    "#model = ols(formula, df).fit(cov_type='HC0')\n",
    "model = ols(formula, df1)\n",
    "results = model.fit()\n",
    "aov_table = statsmodels.stats.anova.anova_lm(results, typ=2)\n",
    "print(aov_table)\n",
    "print(results.summary())"
   ]
  },
  {
   "cell_type": "code",
   "execution_count": null,
   "metadata": {
    "collapsed": true
   },
   "outputs": [],
   "source": []
  }
 ],
 "metadata": {
  "kernelspec": {
   "display_name": "Python 3",
   "language": "python",
   "name": "python3"
  },
  "language_info": {
   "codemirror_mode": {
    "name": "ipython",
    "version": 3
   },
   "file_extension": ".py",
   "mimetype": "text/x-python",
   "name": "python",
   "nbconvert_exporter": "python",
   "pygments_lexer": "ipython3",
   "version": "3.6.2"
  }
 },
 "nbformat": 4,
 "nbformat_minor": 2
}
